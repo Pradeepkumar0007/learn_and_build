{
 "cells": [
  {
   "cell_type": "markdown",
   "id": "1ed00e69",
   "metadata": {},
   "source": [
    "answer number 1:- c"
   ]
  },
  {
   "cell_type": "markdown",
   "id": "bc764a58",
   "metadata": {},
   "source": [
    "answer 2:- a"
   ]
  },
  {
   "cell_type": "markdown",
   "id": "c0a1c6a1",
   "metadata": {},
   "source": [
    "answer 3:- d"
   ]
  },
  {
   "cell_type": "markdown",
   "id": "bb9a75a1",
   "metadata": {},
   "source": [
    "answer 4:- b"
   ]
  },
  {
   "cell_type": "markdown",
   "id": "aa4e898f",
   "metadata": {},
   "source": [
    "answer 5:- a"
   ]
  },
  {
   "cell_type": "markdown",
   "id": "d50d3377",
   "metadata": {},
   "source": [
    "answer 6:- a"
   ]
  },
  {
   "cell_type": "markdown",
   "id": "8f92244b",
   "metadata": {},
   "source": [
    "answer 7:- b"
   ]
  },
  {
   "cell_type": "markdown",
   "id": "db3c1f7a",
   "metadata": {},
   "source": [
    "answer 8:- a"
   ]
  },
  {
   "cell_type": "markdown",
   "id": "2f8c85eb",
   "metadata": {},
   "source": [
    "answer 9:- b"
   ]
  },
  {
   "cell_type": "markdown",
   "id": "1b2438ea",
   "metadata": {},
   "source": [
    "answer 10:- a"
   ]
  },
  {
   "cell_type": "markdown",
   "id": "2f31f64d",
   "metadata": {},
   "source": [
    "answer 11:- b"
   ]
  },
  {
   "cell_type": "markdown",
   "id": "1e3bc5f3",
   "metadata": {},
   "source": [
    "answer 12:- b type error"
   ]
  },
  {
   "cell_type": "markdown",
   "id": "cad7404a",
   "metadata": {},
   "source": [
    "answer 13 :- a"
   ]
  },
  {
   "cell_type": "markdown",
   "id": "7341fa6d",
   "metadata": {},
   "source": [
    "answer 14 :-b"
   ]
  },
  {
   "cell_type": "markdown",
   "id": "5e5777b4",
   "metadata": {},
   "source": [
    "answer 15 :-a"
   ]
  },
  {
   "cell_type": "markdown",
   "id": "623d2c1a",
   "metadata": {},
   "source": [
    "answer 16 :- b"
   ]
  },
  {
   "cell_type": "markdown",
   "id": "91740438",
   "metadata": {},
   "source": [
    "answer 17:- a"
   ]
  },
  {
   "cell_type": "markdown",
   "id": "7a5e9e5c",
   "metadata": {},
   "source": [
    "answer 18:-b"
   ]
  },
  {
   "cell_type": "markdown",
   "id": "080fa055",
   "metadata": {},
   "source": [
    "answer 19:- c"
   ]
  },
  {
   "cell_type": "markdown",
   "id": "9d349093",
   "metadata": {},
   "source": [
    "answer 20 :- b"
   ]
  },
  {
   "cell_type": "markdown",
   "id": "118751ad",
   "metadata": {},
   "source": [
    "answer 21 :- a"
   ]
  },
  {
   "cell_type": "markdown",
   "id": "71a746fb",
   "metadata": {},
   "source": [
    "answer 22:- b"
   ]
  },
  {
   "cell_type": "markdown",
   "id": "e09f27df",
   "metadata": {},
   "source": [
    "answer 23:- a"
   ]
  },
  {
   "cell_type": "markdown",
   "id": "2f47ec80",
   "metadata": {},
   "source": [
    "answer 24:- c"
   ]
  },
  {
   "cell_type": "markdown",
   "id": "f14c389b",
   "metadata": {},
   "source": [
    "answer 25 :- c"
   ]
  },
  {
   "cell_type": "markdown",
   "id": "7c64210b",
   "metadata": {},
   "source": [
    "answer 26:- a"
   ]
  },
  {
   "cell_type": "markdown",
   "id": "d4edb794",
   "metadata": {},
   "source": [
    "answer 27:- b"
   ]
  },
  {
   "cell_type": "code",
   "execution_count": null,
   "id": "d5014266",
   "metadata": {},
   "outputs": [],
   "source": [
    "# sudoku lover "
   ]
  },
  {
   "cell_type": "code",
   "execution_count": null,
   "id": "7f88291c",
   "metadata": {},
   "outputs": [],
   "source": [
    "grid= [\n",
    "    [5, 3, 0, 0, 7, 0, 0, 0, 0],\n",
    "    [6, 0, 0, 1, 9, 5, 0, 0, 0],\n",
    "    [0, 9, 8, 0, 0, 0, 0, 6, 0],\n",
    "    [8, 0, 0, 0, 6, 0, 0, 0, 3],\n",
    "    [4, 0, 0, 8, 0, 3, 0, 0, 1],\n",
    "    [7, 0, 0, 0, 2, 0, 0, 0, 6],\n",
    "    [0, 6, 0, 0, 0, 0, 2, 8, 0],\n",
    "    [0, 0, 0, 4, 1, 9, 0, 0, 5],\n",
    "    [0, 0, 0, 0, 8, 0, 0, 7, 9]\n",
    "]\n",
    " \n",
    "if (Suduko(grid, 0, 0)):\n",
    "    puzzle(grid)\n",
    "else:\n",
    "    print(\"Solution does not exist:(\")"
   ]
  },
  {
   "cell_type": "code",
   "execution_count": 9,
   "id": "b51a603e",
   "metadata": {},
   "outputs": [],
   "source": [
    "def Suduko(grid, row, col):\n",
    "    if (row == M - 1 and col == M):\n",
    "        return True\n",
    "    if col == M:\n",
    "        row += 1\n",
    "        col = 0\n",
    "    if grid[row][col] > 0:\n",
    "        return Suduko(grid, row, col + 1)\n",
    "    for num in range(1, M + 1, 1): \n",
    "     \n",
    "        if solve(grid, row, col, num):\n",
    "         \n",
    "            grid[row][col] = num\n",
    "            if Suduko(grid, row, col + 1):\n",
    "                return True\n",
    "        grid[row][col] = 0\n",
    "    return False"
   ]
  },
  {
   "cell_type": "code",
   "execution_count": null,
   "id": "e6ba10a1",
   "metadata": {},
   "outputs": [],
   "source": []
  },
  {
   "cell_type": "code",
   "execution_count": null,
   "id": "f4835c29",
   "metadata": {},
   "outputs": [],
   "source": []
  },
  {
   "cell_type": "code",
   "execution_count": null,
   "id": "2e42fcb5",
   "metadata": {},
   "outputs": [],
   "source": []
  },
  {
   "cell_type": "code",
   "execution_count": null,
   "id": "3ec28189",
   "metadata": {},
   "outputs": [],
   "source": []
  },
  {
   "cell_type": "markdown",
   "id": "0c245d3f",
   "metadata": {},
   "source": []
  },
  {
   "cell_type": "code",
   "execution_count": null,
   "id": "31763ca3",
   "metadata": {},
   "outputs": [],
   "source": []
  }
 ],
 "metadata": {
  "kernelspec": {
   "display_name": "Python 3 (ipykernel)",
   "language": "python",
   "name": "python3"
  },
  "language_info": {
   "codemirror_mode": {
    "name": "ipython",
    "version": 3
   },
   "file_extension": ".py",
   "mimetype": "text/x-python",
   "name": "python",
   "nbconvert_exporter": "python",
   "pygments_lexer": "ipython3",
   "version": "3.11.0"
  }
 },
 "nbformat": 4,
 "nbformat_minor": 5
}
